{
 "cells": [
  {
   "cell_type": "code",
   "execution_count": 1,
   "outputs": [],
   "source": [
    "import pandas as pd\n",
    "import seaborn as sns\n",
    "import matplotlib.pyplot as plt\n",
    "import torch\n",
    "torch.set_default_tensor_type(torch.cuda.FloatTensor)\n",
    "import gpytorch\n",
    "from Clean import Clean\n",
    "import numpy as np\n",
    "import time\n",
    "\n",
    "%matplotlib inline"
   ],
   "metadata": {
    "collapsed": false,
    "pycharm": {
     "name": "#%%\n",
     "is_executing": false
    }
   }
  },
  {
   "cell_type": "markdown",
   "source": [
    "# Data Prep"
   ],
   "metadata": {
    "collapsed": false
   }
  },
  {
   "cell_type": "code",
   "execution_count": 2,
   "outputs": [
    {
     "name": "stdout",
     "text": [
      "(24171, 459)\n",
      "(13492, 459)\n",
      "(1000, 459)\n"
     ],
     "output_type": "stream"
    }
   ],
   "source": [
    "n = 1000\n",
    "\n",
    "df = pd.read_csv('./data/FM_2000-2019.csv')\n",
    "print(df.shape)\n",
    "df_all = df[df['gp_all_0_a'] >= 30]\n",
    "# df = df_all[0:n]\n",
    "df = df_all[0:-n]\n",
    "df_star = df_all[-n:]\n",
    "print(df.shape)\n",
    "print(df_star.shape)"
   ],
   "metadata": {
    "collapsed": false,
    "pycharm": {
     "name": "#%%\n",
     "is_executing": false
    }
   }
  },
  {
   "cell_type": "code",
   "execution_count": 3,
   "outputs": [
    {
     "name": "stdout",
     "text": [
      "(13301, 24) (13301,)\n",
      "(994, 24) (994,)\n"
     ],
     "output_type": "stream"
    }
   ],
   "source": [
    "games = 30\n",
    "q = 1\n",
    "\n",
    "clean = Clean(df,games)\n",
    "features = clean.get_features(['e-def-rating','e-off-rating','e-pace'],q)\n",
    "y = clean.get_target(q).values\n",
    "cols = features.columns\n",
    "x = features.values\n",
    "print(x.shape, y.shape)\n",
    "\n",
    "clean_test = Clean(df_star,games)\n",
    "features_test = clean_test.get_features(['e-def-rating','e-off-rating','e-pace'],q)\n",
    "y_star = clean_test.get_target(q).values\n",
    "cols_test = features_test.columns\n",
    "x_star = features_test.values\n",
    "print(x_star.shape, y_star.shape)"
   ],
   "metadata": {
    "collapsed": false,
    "pycharm": {
     "name": "#%%\n",
     "is_executing": false
    }
   }
  },
  {
   "cell_type": "markdown",
   "source": [
    "# Fit a GP (GPyTorch)"
   ],
   "metadata": {
    "collapsed": false,
    "pycharm": {
     "name": "#%% md\n",
     "is_executing": true
    }
   }
  },
  {
   "cell_type": "code",
   "execution_count": 4,
   "outputs": [],
   "source": [
    "class SpectralMixtureGPModel(gpytorch.models.ExactGP):\n",
    "    def __init__(self, train_x, train_y, likelihood):\n",
    "        super(SpectralMixtureGPModel, self).__init__(train_x, train_y, likelihood)\n",
    "        self.mean_module = gpytorch.means.ConstantMean()\n",
    "        self.mean_module.initialize(constant=50.)\n",
    "        self.covar_module = gpytorch.kernels.SpectralMixtureKernel(num_mixtures=4, ard_num_dims=train_x.shape[1])\n",
    "        self.covar_module.initialize_from_data(train_x, train_y)\n",
    "\n",
    "    def forward(self,x):\n",
    "        mean_x = self.mean_module(x)\n",
    "        covar_x = self.covar_module(x)\n",
    "        return gpytorch.distributions.MultivariateNormal(mean_x, covar_x)"
   ],
   "metadata": {
    "collapsed": false,
    "pycharm": {
     "name": "#%%\n",
     "is_executing": false
    }
   }
  },
  {
   "cell_type": "code",
   "execution_count": 5,
   "outputs": [],
   "source": [
    "class GPModelSKI(gpytorch.models.ExactGP):\n",
    "    def __init__(self, train_x, train_y, likelihood):\n",
    "        super(GPModelSKI, self).__init__(train_x, train_y, likelihood)\n",
    "        self.mean_module = gpytorch.means.ConstantMean()\n",
    "        self.mean_module.initialize(constant=50.)\n",
    "        self.covar_module = gpytorch.kernels.AdditiveStructureKernel(\n",
    "            gpytorch.kernels.GridInterpolationKernel(\n",
    "                gpytorch.kernels.ScaleKernel(gpytorch.kernels.RBFKernel())\n",
    "                , grid_size=1000, num_dims=1)\n",
    "            , num_dims=train_x.shape[1])\n",
    "\n",
    "    def forward(self, x):\n",
    "        mean_x = self.mean_module(x)\n",
    "        covar_x = self.covar_module(x)\n",
    "        return gpytorch.distributions.MultivariateNormal(mean_x, covar_x)"
   ],
   "metadata": {
    "collapsed": false,
    "pycharm": {
     "name": "#%%\n",
     "is_executing": false
    }
   }
  },
  {
   "cell_type": "code",
   "execution_count": 6,
   "outputs": [],
   "source": [
    "train_x = torch.from_numpy(x).double()\n",
    "train_y = torch.from_numpy(y).double()\n",
    "test_x = torch.from_numpy(x_star).double()\n",
    "test_y = torch.from_numpy(y_star).double()"
   ],
   "metadata": {
    "collapsed": false,
    "pycharm": {
     "name": "#%%\n",
     "is_executing": false
    }
   }
  },
  {
   "cell_type": "code",
   "execution_count": 7,
   "outputs": [],
   "source": [
    "train_x = train_x.cuda()\n",
    "train_y = train_y.cuda()\n",
    "test_x = test_x.cuda()\n",
    "test_y = test_y.cuda()\n"
   ],
   "metadata": {
    "collapsed": false,
    "pycharm": {
     "name": "#%%\n",
     "is_executing": false
    }
   }
  },
  {
   "cell_type": "code",
   "execution_count": 12,
   "outputs": [],
   "source": [
    "likelihood = gpytorch.likelihoods.GaussianLikelihood()\n",
    "# model = SpectralMixtureGPModel(train_x, train_y, likelihood)\n",
    "model = GPModelSKI(train_x, train_y, likelihood)"
   ],
   "metadata": {
    "collapsed": false,
    "pycharm": {
     "name": "#%%\n",
     "is_executing": false
    }
   }
  },
  {
   "cell_type": "code",
   "execution_count": 13,
   "outputs": [],
   "source": [
    "model = model.cuda()\n",
    "likelihood = likelihood.cuda()"
   ],
   "metadata": {
    "collapsed": false,
    "pycharm": {
     "name": "#%%\n",
     "is_executing": false
    }
   }
  },
  {
   "cell_type": "code",
   "execution_count": 14,
   "outputs": [
    {
     "name": "stdout",
     "text": [
      "Iter 500/500 - Loss: 4.776\n",
      "Wall time: 12min 9s\n"
     ],
     "output_type": "stream"
    }
   ],
   "source": [
    "# Find optimal model hyperparameters\n",
    "model.double()\n",
    "model.train()\n",
    "likelihood.train()\n",
    "\n",
    "# Use the adam optimizer\n",
    "optimizer = torch.optim.Adam([{'params': model.parameters()}], lr=0.1)\n",
    "\n",
    "# \"Loss\" for GPs - the marginal log likelihood\n",
    "mll = gpytorch.mlls.ExactMarginalLogLikelihood(likelihood, model)\n",
    "\n",
    "def train(training_iter):\n",
    "    for i in range(training_iter):\n",
    "        optimizer.zero_grad()\n",
    "        output = model(train_x)\n",
    "        loss = -mll(output, train_y)\n",
    "        loss.backward()\n",
    "        print('Iter %d/%d - Loss: %.3f' % (i + 1, training_iter, loss.item()), end='\\r')\n",
    "        optimizer.step()\n",
    "    print('Iter %d/%d - Loss: %.3f' % (training_iter, training_iter, loss.item()))\n",
    "\n",
    "# with gpytorch.settings.use_toeplitz(False)\\\n",
    "#         , gpytorch.beta_features.checkpoint_kernel(10000)\\\n",
    "#         , gpytorch.settings.max_preconditioner_size(0):\n",
    "with gpytorch.settings.use_toeplitz(False):\n",
    "    %time train(500)"
   ],
   "metadata": {
    "collapsed": false,
    "pycharm": {
     "name": "#%%\n",
     "is_executing": false
    }
   }
  },
  {
   "cell_type": "code",
   "execution_count": 15,
   "outputs": [],
   "source": [
    "torch.save(model.state_dict(), 'ski_full_model_cuda_500.pth')"
   ],
   "metadata": {
    "collapsed": false,
    "pycharm": {
     "name": "#%%\n",
     "is_executing": false
    }
   }
  },
  {
   "cell_type": "code",
   "execution_count": 24,
   "outputs": [
    {
     "name": "stdout",
     "text": [
      "(100000, 994)\n"
     ],
     "output_type": "stream"
    }
   ],
   "source": [
    "model.eval()\n",
    "likelihood.eval()\n",
    "\n",
    "with torch.no_grad(), gpytorch.settings.fast_pred_var():\n",
    "    ppc = likelihood(model(test_x))\n",
    "    # ppc = likelihood(model(train_x))\n",
    "    # print(ppc.mean.cpu().numpy())\n",
    "    samples = ppc.sample(sample_shape=torch.Size([100000,])).cpu().numpy()\n",
    "    print(samples.shape)"
   ],
   "metadata": {
    "collapsed": false,
    "pycharm": {
     "name": "#%%\n",
     "is_executing": false
    }
   }
  },
  {
   "cell_type": "code",
   "execution_count": 25,
   "outputs": [
    {
     "data": {
      "text/plain": "<Figure size 432x288 with 1 Axes>",
      "image/png": "[encoded data removed]"
     },
     "metadata": {
      "needs_background": "light"
     },
     "output_type": "display_data"
    }
   ],
   "source": [
    "fig, ax = plt.subplots()\n",
    "sns.distplot(samples.mean(axis=1), label='Posterior predictive means', ax=ax)\n",
    "ax.axvline(test_y.mean(), ls='--', color='r', label='True mean')\n",
    "# ax.axvline(train_y.mean(), ls='--', color='r', label='True mean')\n",
    "ax.legend(); \n"
   ],
   "metadata": {
    "collapsed": false,
    "pycharm": {
     "name": "#%%\n",
     "is_executing": false
    }
   }
  },
  {
   "cell_type": "code",
   "execution_count": 48,
   "outputs": [
    {
     "data": {
      "text/plain": "<Figure size 432x288 with 1 Axes>",
      "image/png": "[encoded data removed]"
     },
     "metadata": {
      "needs_background": "light"
     },
     "output_type": "display_data"
    }
   ],
   "source": [
    "samples_0 = samples[:,0]\n",
    "\n",
    "fig, ax = plt.subplots()\n",
    "ax.hist(samples_0, bins=50);"
   ],
   "metadata": {
    "collapsed": false,
    "pycharm": {
     "name": "#%%\n",
     "is_executing": false
    }
   }
  },
  {
   "cell_type": "code",
   "execution_count": 26,
   "outputs": [
    {
     "name": "stdout",
     "text": [
      "59\n",
      "(10000,)\n",
      "58.63169306683\n"
     ],
     "output_type": "stream"
    }
   ],
   "source": [
    "print(y[0])\n",
    "print(samples_0.shape)\n",
    "print(samples_0.mean())\n"
   ],
   "metadata": {
    "collapsed": false,
    "pycharm": {
     "name": "#%%\n",
     "is_executing": false
    }
   }
  },
  {
   "cell_type": "code",
   "execution_count": 27,
   "outputs": [
    {
     "name": "stdout",
     "text": [
      "(2,)\n",
      "200\n",
      "150.0\n"
     ],
     "output_type": "stream"
    }
   ],
   "source": [
    "a = np.array([100,200])\n",
    "print(a.shape)\n",
    "print(a[-1])\n",
    "def train(training_iter):\n",
    "    loss_list = np.array([100])\n",
    "    for i in range(training_iter):\n",
    "        optimizer.zero_grad()\n",
    "        output = model(train_x)\n",
    "        loss = -mll(output, train_y)\n",
    "        loss.backward()\n",
    "        print('Iter %d/%d - Loss: %.3f - Diff: %.3f - AvgLoss: %.3f' \n",
    "              % (i + 1, training_iter, loss.item(), loss_list[-1]-loss.item(), loss_list[-20:].mean()), end='\\r')\n",
    "        if abs(loss.item()-loss_list[-20:].mean())<1e-4:\n",
    "            print('Converged: Iter %d/%d - Loss: %.3f - Diff: %.3f - AvgLoss: %.3f' \n",
    "              % (i + 1, training_iter, loss.item(), loss_list[-1]-loss.item(), loss_list[-20:].mean()))\n",
    "            return\n",
    "        loss_list = np.append(loss_list, [loss.item()])\n",
    "        optimizer.step()"
   ],
   "metadata": {
    "collapsed": false,
    "pycharm": {
     "name": "#%%\n",
     "is_executing": false
    }
   }
  },
  {
   "cell_type": "code",
   "execution_count": null,
   "outputs": [],
   "source": [
    "\n"
   ],
   "metadata": {
    "collapsed": false,
    "pycharm": {
     "name": "#%%\n"
    }
   }
  }
 ],
 "metadata": {
  "kernelspec": {
   "display_name": "Python 3",
   "language": "python",
   "name": "python3"
  },
  "language_info": {
   "codemirror_mode": {
    "name": "ipython",
    "version": 2
   },
   "file_extension": ".py",
   "mimetype": "text/x-python",
   "name": "python",
   "nbconvert_exporter": "python",
   "pygments_lexer": "ipython2",
   "version": "2.7.6"
  },
  "pycharm": {
   "stem_cell": {
    "cell_type": "raw",
    "source": [],
    "metadata": {
     "collapsed": false
    }
   }
  }
 },
 "nbformat": 4,
 "nbformat_minor": 0
}