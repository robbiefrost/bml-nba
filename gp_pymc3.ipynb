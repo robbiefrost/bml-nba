{
 "cells": [
  {
   "cell_type": "code",
   "execution_count": null,
   "outputs": [],
   "source": [
    "import pandas as pd\n",
    "import pymc3 as pm\n",
    "import seaborn as sns\n",
    "import matplotlib.pyplot as plt\n",
    "from Clean import Clean\n",
    "import time\n",
    "\n",
    "%matplotlib inline"
   ],
   "metadata": {
    "collapsed": false,
    "pycharm": {
     "name": "#%%\n"
    }
   }
  },
  {
   "cell_type": "markdown",
   "source": [
    "# Data Prep"
   ],
   "metadata": {
    "collapsed": false
   }
  },
  {
   "cell_type": "code",
   "execution_count": null,
   "outputs": [],
   "source": [
    "n = 1000\n",
    "\n",
    "df = pd.read_csv('FM_2000-2019.csv')\n",
    "print(df.shape)\n",
    "df_all = df[df['gp_all_0_a'] >= 30]\n",
    "# df = df_all[0:n]\n",
    "df = df_all[0:-n]\n",
    "df_star = df_all[-n:]\n",
    "print(df.shape)\n",
    "print(df_star.shape)"
   ],
   "metadata": {
    "collapsed": false,
    "pycharm": {
     "name": "#%%\n"
    }
   }
  },
  {
   "cell_type": "code",
   "execution_count": null,
   "outputs": [],
   "source": [
    "games = 30\n",
    "q = 1\n",
    "\n",
    "clean = Clean(df,games)\n",
    "features = clean.get_features(['e-def-rating','e-off-rating','e-pace'],q)\n",
    "y = clean.get_target(q).values\n",
    "cols = features.columns\n",
    "x = features.values\n",
    "print(x.shape, y.shape)\n",
    "\n",
    "clean_test = Clean(df_star,games)\n",
    "features_test = clean_test.get_features(['e-def-rating','e-off-rating','e-pace'],q)\n",
    "y_star = clean_test.get_target(q).values\n",
    "cols_test = features_test.columns\n",
    "x_star = features_test.values\n",
    "print(x_star.shape, y_star.shape)"
   ],
   "metadata": {
    "collapsed": false,
    "pycharm": {
     "name": "#%%\n"
    }
   }
  },
  {
   "cell_type": "markdown",
   "source": [
    "# Fit a Gaussian process (PyMC3)"
   ],
   "metadata": {
    "collapsed": false
   }
  },
  {
   "cell_type": "code",
   "execution_count": null,
   "outputs": [],
   "source": [
    "with pm.Model() as model:\n",
    "    a = pm.HalfCauchy('a', beta=1)\n",
    "    # ls = pm.Normal('ls', mu=0, sigma=1, shape=x.shape[1])\n",
    "    # ls = pm.HalfNormal('ls', sigma=1, shape=x.shape[1])\n",
    "    ls = pm.Gamma('ls', alpha=4, beta=3, shape=x.shape[1])\n",
    "    cov = a**2 * pm.gp.cov.ExpQuad(input_dim=x.shape[1], ls=ls)\n",
    "    # cov = a**2 * pm.gp.cov.Exponential(input_dim=x.shape[1], ls=ls)\n",
    "    mean = pm.gp.mean.Constant(y.mean())\n",
    "    gp = pm.gp.Marginal(mean_func=mean, cov_func=cov)\n",
    "\n",
    "    noise = pm.HalfNormal('noise', sigma=1)\n",
    "    y_ = gp.marginal_likelihood(\"y\", X=x, y=y, noise=noise)\n",
    "    \n",
    "    # gp = pm.gp.MarginalSparse(mean_func=mean, cov_func=cov, approx='FITC')\n",
    "    # Xu = pm.gp.util.kmeans_inducing_points(50, x)\n",
    "    # noise = pm.HalfCauchy('noise', beta=1)\n",
    "    # y_ = gp.marginal_likelihood(\"y\", X=x, Xu=Xu, y=y, noise=noise)"
   ],
   "metadata": {
    "collapsed": false,
    "pycharm": {
     "name": "#%%\n"
    }
   }
  },
  {
   "cell_type": "code",
   "execution_count": null,
   "outputs": [],
   "source": [
    "start = time.time()\n",
    "# Get trace\n",
    "with model:\n",
    "    trace = pm.sample(1000, cores=1, tune=500)\n",
    "print(\"runtime= \", (time.time() - start)/60, 'min')"
   ],
   "metadata": {
    "collapsed": false,
    "pycharm": {
     "name": "#%%\n"
    }
   }
  },
  {
   "cell_type": "code",
   "execution_count": null,
   "outputs": [],
   "source": [
    "pm.save_trace(trace=trace, directory='./gp_trace')"
   ],
   "metadata": {
    "collapsed": false,
    "pycharm": {
     "name": "#%%\n"
    }
   }
  },
  {
   "cell_type": "code",
   "execution_count": null,
   "outputs": [],
   "source": [
    "pm.energyplot(trace);"
   ],
   "metadata": {
    "collapsed": false,
    "pycharm": {
     "name": "#%%\n"
    }
   }
  },
  {
   "cell_type": "code",
   "execution_count": null,
   "outputs": [],
   "source": [
    "pm.traceplot(trace);"
   ],
   "metadata": {
    "collapsed": false,
    "pycharm": {
     "name": "#%%\n"
    }
   }
  },
  {
   "cell_type": "code",
   "execution_count": null,
   "outputs": [],
   "source": [
    "with model:\n",
    "    ppc = pm.sample_posterior_predictive(trace, samples=10000)\n",
    "    f_pred = gp.conditional('x_pred', x_star)\n",
    "    f_star = pm.sample_posterior_predictive(trace\n",
    "                                             , vars=[f_pred]\n",
    "                                             , samples=10000) \n"
   ],
   "metadata": {
    "collapsed": false,
    "pycharm": {
     "name": "#%%\n"
    }
   }
  },
  {
   "cell_type": "code",
   "execution_count": null,
   "outputs": [],
   "source": [
    "samples = f_star['x_pred']\n",
    "# samples = ppc['y']\n",
    "\n",
    "print(samples.shape)\n",
    "print(samples)\n",
    "# ppc['obs'].mean(axis=1)"
   ],
   "metadata": {
    "collapsed": false,
    "pycharm": {
     "name": "#%%\n"
    }
   }
  },
  {
   "cell_type": "code",
   "execution_count": null,
   "outputs": [],
   "source": [
    "fig, ax = plt.subplots()\n",
    "sns.distplot(samples.mean(axis=1), label='Posterior predictive means', ax=ax)\n",
    "ax.axvline(y_star.mean(), ls='--', color='r', label='True mean')\n",
    "ax.legend(); "
   ],
   "metadata": {
    "collapsed": false,
    "pycharm": {
     "name": "#%%\n"
    }
   }
  },
  {
   "cell_type": "code",
   "execution_count": null,
   "outputs": [],
   "source": [
    "samples_0 = samples[:,0]\n",
    "\n",
    "fig, ax = plt.subplots()\n",
    "ax.hist(samples_0, bins=50);"
   ],
   "metadata": {
    "collapsed": false,
    "pycharm": {
     "name": "#%%\n"
    }
   }
  },
  {
   "cell_type": "code",
   "execution_count": null,
   "outputs": [],
   "source": [
    "print(y_star[0])\n",
    "print(samples_0.shape)\n",
    "print(samples_0.mean())\n"
   ],
   "metadata": {
    "collapsed": false,
    "pycharm": {
     "name": "#%%\n"
    }
   }
  }
 ],
 "metadata": {
  "kernelspec": {
   "display_name": "Python 3",
   "language": "python",
   "name": "python3"
  },
  "language_info": {
   "codemirror_mode": {
    "name": "ipython",
    "version": 2
   },
   "file_extension": ".py",
   "mimetype": "text/x-python",
   "name": "python",
   "nbconvert_exporter": "python",
   "pygments_lexer": "ipython2",
   "version": "2.7.6"
  },
  "pycharm": {
   "stem_cell": {
    "cell_type": "raw",
    "source": [],
    "metadata": {
     "collapsed": false
    }
   }
  }
 },
 "nbformat": 4,
 "nbformat_minor": 0
}